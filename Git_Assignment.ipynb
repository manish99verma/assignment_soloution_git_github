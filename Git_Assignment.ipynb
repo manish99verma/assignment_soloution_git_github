{
  "nbformat": 4,
  "nbformat_minor": 0,
  "metadata": {
    "colab": {
      "provenance": []
    },
    "kernelspec": {
      "name": "python3",
      "display_name": "Python 3"
    },
    "language_info": {
      "name": "python"
    }
  },
  "cells": [
    {
      "cell_type": "markdown",
      "source": [
        "1. Explain what version control is and its importance in software development.\n",
        "- Version Control is used to keep a track of changes made by developers over time. Its Importance in software developement are given below:\n",
        "  *   Make it easier for multiple developers to work together on same project. Eg. One developer can work on one feature while another developer on another feature.\n",
        "  *   Can go back to last working version if current version get any error.\n",
        "  *   Getting a track of history making it easier to find which commit and which developer created a new bug.\n",
        "\n",
        "\n",
        " 2. Explain the Git Workflow, including the staging area, working directory, and repository.\n",
        " - Git is a tool that helps us track changes in our code. It is used by developers to work on projects and manage versions of their files. The Git workflow:\n",
        "    1.   Staging Area: After we make changes, we use the command git add to move the changes to the staging area. This is like a preparation zone. We tell Git which changes we want to save. If we don’t add the changes, they won’t be saved on git commit.\n",
        "    2.   Working Directory: This is where we actually do our work. When we open our project folder and edit or create files, we are working in the working directory. Any changes we make here are not yet saved by Git.\n",
        "    3.   Repository: When we are ready to save everything, we use the command git commit. This saves all the changes from the staging area into the repository (also called the local repo). This is the part where Git permanently stores our changes and we can come back to them anytime.\n",
        "\n",
        "\n",
        "3. Explain what .gitignore is and why it’s important in version control.\n",
        "- .gitignore is file where we list all the files which we don't want to get tracked or saved by git. It helps us to save our secret keys or files from get leaked. It mostly used to save our database keys, local setup config files and much more from get leaked.\n",
        "\n",
        "4.  Briefly explain what GitHub is and how it facilitates collaboration and version control also name some alternatives to GitHub.\n",
        "- GitHub is a web version of git where we can store our Git projects online. It helps us share code with others and work together as a team. It uses Git in the background for version control.\n",
        "With GitHub, we can:\n",
        "    *  Save our code in the cloud (online).\n",
        "    *  Work on the same project with others.\n",
        "    *  See who changed what and when.\n",
        "    *  Fix mistakes by going back to older versions.\n",
        "    *  It also has features like pull requests, issues, and branches that make team collaboration easier.\n",
        "\n",
        "Alternatives to GitHub: GitLab, Bitbucket, SourceForge, AWS CodeCommit etc.\n",
        "\n",
        "5.  Describe the process of contributing to any open-source project on GitHub in a step-by-step manner.\n",
        "- * Step 1: Clone Repo to your system by `git clone` command\n",
        "  * Step 2: Create new branch with `git branch branch-name` if specified in project documentation\n",
        "  * Step 3: Swith to new brach with `git checkout branch-name`\n",
        "  * Step 4: Add new feature or fix the bug whatever you want and test properly\n",
        "  * Step 5: Add new files to git if created by `git add .` command.\n",
        "  * Step 6: Make a commit with `git commit -m \"commit message\"` command.\n",
        "  * Step 7: Push to remote with `git push origin -u branch-name`\n",
        "  * Step 8: Go to github and make a pull request and wait for the project maintainer to review the code\n",
        "\n",
        "6. Deploy Tailwind projects named Youtube, slack, and Gmail clones on GitHub pages and share the deployed link of those three. Expected output - Live hosted URL Link of your deployed respective website with GitHub pages. *Note - For this task, you can use HTML and CSS for now. Tailwind CSS is not required at this stage.\n",
        "- ## Youtube Clone:  \n",
        "  * [Live link](https://manish99verma.github.io/youtube-clone/)\n",
        "  * [Source code](https://github.com/manish99verma/youtube-clone)\n",
        "\n",
        "  ## Slack Clone:\n",
        "  * [Live link](https://manish99verma.github.io/slack-clone/)\n",
        "  * [Source Code](https://github.com/manish99verma/slack-clone)\n",
        "\n",
        "  ## Gmail Clone:\n",
        "  * [Live link](https://manish99verma.github.io/gmail-clone/)\n",
        "  * [Source code](https://github.com/manish99verma/gmail-clone)\n",
        "\n"
      ],
      "metadata": {
        "id": "yJ3gUymLVcy-"
      }
    }
  ]
}